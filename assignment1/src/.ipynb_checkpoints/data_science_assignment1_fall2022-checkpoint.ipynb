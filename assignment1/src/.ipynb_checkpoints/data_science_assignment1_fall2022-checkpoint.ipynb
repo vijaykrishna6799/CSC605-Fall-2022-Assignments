{
 "cells": [
  {
   "cell_type": "markdown",
   "id": "76270cac",
   "metadata": {},
   "source": [
    "# ASSIGNMENT 1"
   ]
  },
  {
   "cell_type": "markdown",
   "id": "69244165",
   "metadata": {},
   "source": [
    "### Using csv package to read the file into a list"
   ]
  },
  {
   "cell_type": "code",
   "execution_count": 1,
   "id": "262d4c07",
   "metadata": {},
   "outputs": [],
   "source": [
    "import csv"
   ]
  },
  {
   "cell_type": "markdown",
   "id": "90f0d39e",
   "metadata": {},
   "source": [
    "# To Read csv File as a List\n",
    "\n",
    "\n",
    "## https://docs.python.org/3/library/csv.html#csv.reader\n"
   ]
  },
  {
   "cell_type": "code",
   "execution_count": 2,
   "id": "4a5fd666",
   "metadata": {},
   "outputs": [],
   "source": [
    "with open('../data/fall-22-students.tsv') as x: # loading the file as 'x' and 'x' is the csv data file\n",
    "    data_set = csv.reader(x) # csv file to be loaded in the reader\n",
    "    students_list = list(data_set)"
   ]
  },
  {
   "cell_type": "code",
   "execution_count": 3,
   "id": "4ac6360c",
   "metadata": {},
   "outputs": [
    {
     "name": "stdout",
     "output_type": "stream",
     "text": [
      "[['Student\\tHash'], ['Annamalai', ' Varsha\\t2732727504348557328'], ['Arasikere Rakesh', ' Raveena\\t2715387848376511785'], ['Budavi', ' Priyanka\\t609722887760680710'], ['Darandale', ' Aditi\\t-3592947821904789059'], ['Doerr', ' Maximilian\\t-241870194234947188'], ['Farahani', ' Parisa\\t-782669854885580552'], ['Gabbula', ' Sai Ram Ajay Krishna\\t3430638400286662722'], ['Gabbula', ' Venkata Vijay Krishna\\t2274622967677883996'], ['Gunde', ' Deeksha\\t4069553384325267097'], ['Kallem', ' Snehith\\t296389889114347009'], ['Kuluri', ' Manichandana\\t-9113492615128308341'], ['Nimmaturi', ' Sai Swapnika\\t8871653806563935680'], ['Potlapally', ' Shruti Nandana\\t6680005440180066297'], ['Shah', ' Manish\\t4333100139881963958'], ['Shou', ' Wenhao\\t2262113024811264944'], ['Veeramaneni', ' Varsha\\t-1090991306239913969'], ['Vidapu', ' Aman Tej\\t7347350608443768573'], ['Abisiga', ' Mojeed\\t1756748071387330450'], ['Gayam', ' Sai Santosh Reddy\\t-2863333019251892158'], ['Havalchi', ' Mufaddal\\t5556700921407775642'], ['Nezianya', ' Ndubuisi\\t-1868760087748791974'], ['Patil', ' Deeksha\\t7980120123048414705'], ['Teri', ' Benjamin\\t8158995515482271942']]\n"
     ]
    }
   ],
   "source": [
    "print(students_list)\n",
    "#printed the given datafile as a list"
   ]
  },
  {
   "cell_type": "markdown",
   "id": "63ddcd1d",
   "metadata": {},
   "source": [
    "# Removing Paricular Object From the List\n",
    "\n",
    "### https://www.geeksforgeeks.org/python-list-remove/"
   ]
  },
  {
   "cell_type": "code",
   "execution_count": 4,
   "id": "55cba465",
   "metadata": {},
   "outputs": [
    {
     "name": "stdout",
     "output_type": "stream",
     "text": [
      "[['Annamalai', ' Varsha\\t2732727504348557328'], ['Arasikere Rakesh', ' Raveena\\t2715387848376511785'], ['Budavi', ' Priyanka\\t609722887760680710'], ['Darandale', ' Aditi\\t-3592947821904789059'], ['Doerr', ' Maximilian\\t-241870194234947188'], ['Farahani', ' Parisa\\t-782669854885580552'], ['Gabbula', ' Sai Ram Ajay Krishna\\t3430638400286662722'], ['Gabbula', ' Venkata Vijay Krishna\\t2274622967677883996'], ['Gunde', ' Deeksha\\t4069553384325267097'], ['Kallem', ' Snehith\\t296389889114347009'], ['Kuluri', ' Manichandana\\t-9113492615128308341'], ['Nimmaturi', ' Sai Swapnika\\t8871653806563935680'], ['Potlapally', ' Shruti Nandana\\t6680005440180066297'], ['Shah', ' Manish\\t4333100139881963958'], ['Shou', ' Wenhao\\t2262113024811264944'], ['Veeramaneni', ' Varsha\\t-1090991306239913969'], ['Vidapu', ' Aman Tej\\t7347350608443768573'], ['Abisiga', ' Mojeed\\t1756748071387330450'], ['Gayam', ' Sai Santosh Reddy\\t-2863333019251892158'], ['Havalchi', ' Mufaddal\\t5556700921407775642'], ['Nezianya', ' Ndubuisi\\t-1868760087748791974'], ['Patil', ' Deeksha\\t7980120123048414705'], ['Teri', ' Benjamin\\t8158995515482271942']]\n"
     ]
    }
   ],
   "source": [
    "students_list.remove(students_list[0])\n",
    "# removing the first row as it is just column names\n",
    "print(students_list) # printing the list after removing unwanted data"
   ]
  },
  {
   "cell_type": "code",
   "execution_count": 5,
   "id": "63f2debd",
   "metadata": {},
   "outputs": [
    {
     "name": "stdout",
     "output_type": "stream",
     "text": [
      "23\n"
     ]
    }
   ],
   "source": [
    "students=len(students_list)\n",
    "print(students)\n",
    "#total list of students in the file is 23 "
   ]
  },
  {
   "cell_type": "markdown",
   "id": "babf9d00",
   "metadata": {},
   "source": [
    "## Generating teams based on the number of teams provided as a variable."
   ]
  },
  {
   "cell_type": "code",
   "execution_count": 6,
   "id": "4f086ac5",
   "metadata": {},
   "outputs": [
    {
     "name": "stdout",
     "output_type": "stream",
     "text": [
      "Pick the team size as per requirement :4\n"
     ]
    }
   ],
   "source": [
    "team=int(input('Pick the team size as per requirement :'))\n"
   ]
  },
  {
   "cell_type": "code",
   "execution_count": 7,
   "id": "cc5a13ca",
   "metadata": {},
   "outputs": [],
   "source": [
    "count=1\n",
    "team_no=1\n",
    "# providing the initial values to 1 so that we can print the output in order from '1'"
   ]
  },
  {
   "cell_type": "markdown",
   "id": "45862e4a",
   "metadata": {},
   "source": [
    "#### Using Random Library\n",
    "\n",
    "### https://www.cs.swarthmore.edu/~adanner/cs21/f09/randomlib.php#:~:text=To%20get%20access%20to%20the,get%20different%20(random)%20results."
   ]
  },
  {
   "cell_type": "code",
   "execution_count": 8,
   "id": "392342e4",
   "metadata": {},
   "outputs": [],
   "source": [
    "from random import *"
   ]
  },
  {
   "cell_type": "code",
   "execution_count": 9,
   "id": "fe0b2072",
   "metadata": {},
   "outputs": [
    {
     "name": "stdout",
     "output_type": "stream",
     "text": [
      " Team no: 1\n",
      "4 ['Doerr', ' Maximilian\\t-241870194234947188']\n",
      "3 ['Darandale', ' Aditi\\t-3592947821904789059']\n",
      "17 ['Havalchi', ' Mufaddal\\t5556700921407775642']\n",
      "9 ['Nimmaturi', ' Sai Swapnika\\t8871653806563935680']\n",
      " Team no: 2\n",
      "7 ['Kallem', ' Snehith\\t296389889114347009']\n",
      "9 ['Shah', ' Manish\\t4333100139881963958']\n",
      "5 ['Gabbula', ' Venkata Vijay Krishna\\t2274622967677883996']\n",
      "6 ['Kuluri', ' Manichandana\\t-9113492615128308341']\n",
      " Team no: 3\n",
      "10 ['Abisiga', ' Mojeed\\t1756748071387330450']\n",
      "2 ['Budavi', ' Priyanka\\t609722887760680710']\n",
      "11 ['Patil', ' Deeksha\\t7980120123048414705']\n",
      "0 ['Annamalai', ' Varsha\\t2732727504348557328']\n",
      " Team no: 4\n",
      "8 ['Gayam', ' Sai Santosh Reddy\\t-2863333019251892158']\n",
      "0 ['Arasikere Rakesh', ' Raveena\\t2715387848376511785']\n",
      "1 ['Gabbula', ' Sai Ram Ajay Krishna\\t3430638400286662722']\n",
      "1 ['Gunde', ' Deeksha\\t4069553384325267097']\n",
      " Team no: 5\n",
      "5 ['Nezianya', ' Ndubuisi\\t-1868760087748791974']\n",
      "3 ['Veeramaneni', ' Varsha\\t-1090991306239913969']\n",
      "3 ['Vidapu', ' Aman Tej\\t7347350608443768573']\n",
      "0 ['Farahani', ' Parisa\\t-782669854885580552']\n",
      "1 ['Shou', ' Wenhao\\t2262113024811264944']\n",
      "1 ['Teri', ' Benjamin\\t8158995515482271942']\n",
      "0 ['Potlapally', ' Shruti Nandana\\t6680005440180066297']\n"
     ]
    }
   ],
   "source": [
    "# I use a while loop to execute the below code recursively and remove the student name from the list once it is printed\n",
    "#Instead of the 'while' loop we can also implement 'for' loop\n",
    "# 'team' value is equal to the input given by the user\n",
    "# for the given data [students=23] (total 23 students in the list)\n",
    "#while loop is executed 23 times as the list has 23 students in it and after each iteration 'i' value is incremented by 1\n",
    "i=0\n",
    "while i<students:\n",
    "    i=i+1\n",
    "#for i in range(0, students):\n",
    "# if the input variable given is more than the students list then there is no need for teams formation and all students will be in the same group and the loop breaks\n",
    "    \n",
    "    \n",
    "    if team > students:\n",
    "        print('All students will be in the same group as the group count is more than the available students')\n",
    "# count value is increased by '1' after each iteration and if the value is more than the input then we reset the count to '1'\n",
    "    \n",
    "    \n",
    "    if count > team:\n",
    "        count=1\n",
    "        team_no+=1\n",
    "# Initially the count value is one and we start by printing the team number\n",
    "    \n",
    "    \n",
    "    if count == 1: #printing the team number dynamically starting from 1.\n",
    "        print(\" Team no: %d\" % team_no)\n",
    "    #random_no=random.randint(0,22)\n",
    "# Used the randint from random package to randomly pick a student from the list\n",
    "    \n",
    "    random_no=randint(0,len(students_list)-1)\n",
    "    print(random_no, students_list[random_no])\n",
    "#After printing the student name randomly we remove it from the original list to avoid repeating the same student name\n",
    "    \n",
    "    \n",
    "    students_list.remove(students_list[random_no])\n",
    "#Groups will be formed in random as per the variable input given\n",
    "#and in the end if more students are not available to form a group , these students are grouped in the last group\n",
    "    \n",
    "    \n",
    "    \n",
    "    if len(students_list)>=team:\n",
    "        count+=1\n",
    "#count value is increased by '1' as the teams are forming\n",
    "# the above said count value is reset to '1' as new teams are printing in random\n",
    "\n",
    "\n"
   ]
  },
  {
   "cell_type": "code",
   "execution_count": null,
   "id": "f7782e39",
   "metadata": {},
   "outputs": [],
   "source": []
  },
  {
   "cell_type": "code",
   "execution_count": null,
   "id": "a1de17f2",
   "metadata": {},
   "outputs": [],
   "source": []
  },
  {
   "cell_type": "code",
   "execution_count": null,
   "id": "bab03473",
   "metadata": {},
   "outputs": [],
   "source": []
  },
  {
   "cell_type": "code",
   "execution_count": null,
   "id": "54026f4d",
   "metadata": {},
   "outputs": [],
   "source": []
  },
  {
   "cell_type": "code",
   "execution_count": null,
   "id": "a677e76e",
   "metadata": {},
   "outputs": [],
   "source": []
  },
  {
   "cell_type": "code",
   "execution_count": null,
   "id": "9e2a5da7",
   "metadata": {},
   "outputs": [],
   "source": []
  }
 ],
 "metadata": {
  "kernelspec": {
   "display_name": "Python 3 (ipykernel)",
   "language": "python",
   "name": "python3"
  },
  "language_info": {
   "codemirror_mode": {
    "name": "ipython",
    "version": 3
   },
   "file_extension": ".py",
   "mimetype": "text/x-python",
   "name": "python",
   "nbconvert_exporter": "python",
   "pygments_lexer": "ipython3",
   "version": "3.9.7"
  }
 },
 "nbformat": 4,
 "nbformat_minor": 5
}
